{
 "cells": [
  {
   "cell_type": "code",
   "execution_count": 1,
   "metadata": {},
   "outputs": [],
   "source": [
    "import numpy as np\n",
    "import pandas as pd\n",
    "import matplotlib.pyplot as plt\n",
    "import seaborn as sns\n",
    "\n",
    "import xgboost as xgb\n",
    "\n",
    "from sklearn.datasets import load_breast_cancer\n",
    "from sklearn.metrics import (\n",
    "    accuracy_score,\n",
    "    average_precision_score,\n",
    "    confusion_matrix,\n",
    "    f1_score,\n",
    "    precision_score,\n",
    "    recall_score,\n",
    "    roc_auc_score\n",
    ")\n",
    "from sklearn.model_selection import train_test_split\n"
   ]
  },
  {
   "cell_type": "code",
   "execution_count": 2,
   "metadata": {},
   "outputs": [],
   "source": [
    "df = pd.read_csv('modelling_df.csv')"
   ]
  },
  {
   "cell_type": "code",
   "execution_count": 3,
   "metadata": {},
   "outputs": [],
   "source": [
    "\n",
    "Y = df['Delay']\n",
    "X = df.drop(['Delay'], axis=1)\n",
    "X_train, X_test, y_train, y_test = train_test_split(X, Y, test_size=0.2)\n",
    "\n",
    "# Create DMatrix\n",
    "dtrain = xgb.DMatrix(X_train, label=y_train)\n",
    "dtest = xgb.DMatrix(X_test, label=y_test)\n",
    "\n",
    "# Calculate approximate scale\n",
    "#scale_pos_weight = (number of negative samples) / (number of positive samples)\n",
    "scale_pos_weight = 519110 / 8435\n",
    "\n",
    "\n",
    "params = {\n",
    "    'tree_method': 'hist',  \n",
    "    'device': 'cuda',    \n",
    "    'objective': 'binary:logistic',\n",
    "     'scale_pos_weight': 61.5,\n",
    "}\n",
    "\n",
    "\n",
    "bst = xgb.train(params, dtrain, num_boost_round=100)\n",
    "preds = bst.predict(dtest)\n"
   ]
  },
  {
   "cell_type": "code",
   "execution_count": 4,
   "metadata": {},
   "outputs": [],
   "source": [
    "# turn probabilities into 0/1 predictions and lower the threshold snce we care more about delas \n",
    "y_pred_labels = (preds > 0.3).astype(int)"
   ]
  },
  {
   "cell_type": "code",
   "execution_count": 5,
   "metadata": {},
   "outputs": [
    {
     "name": "stdout",
     "output_type": "stream",
     "text": [
      "Delay Recall (Sensitivity): 0.9359990247470438\n"
     ]
    }
   ],
   "source": [
    "print(\"Delay Recall (Sensitivity):\", recall_score(y_test, y_pred_labels, pos_label=1))"
   ]
  },
  {
   "cell_type": "code",
   "execution_count": null,
   "metadata": {},
   "outputs": [],
   "source": []
  },
  {
   "cell_type": "code",
   "execution_count": 7,
   "metadata": {},
   "outputs": [
    {
     "data": {
      "image/png": "[encoded data removed]",
      "text/plain": [
       "<Figure size 500x400 with 2 Axes>"
      ]
     },
     "metadata": {},
     "output_type": "display_data"
    }
   ],
   "source": [
    "\n",
    "y_true = y_test\n",
    "cm = confusion_matrix(y_true, y_pred_labels)\n",
    "\n",
    "plt.figure(figsize=(5,4))\n",
    "sns.heatmap(cm, annot=True, fmt='d', cmap='Blues')\n",
    "plt.xlabel('Predicted')\n",
    "plt.ylabel('Actual')\n",
    "plt.title('Confusion Matrix')\n",
    "plt.show()\n"
   ]
  },
  {
   "cell_type": "code",
   "execution_count": 8,
   "metadata": {},
   "outputs": [
    {
     "name": "stdout",
     "output_type": "stream",
     "text": [
      "Accuracy: 0.4976829783725695\n",
      "Precision: 0.028208858713223407\n",
      "Recall: 0.9359990247470438\n",
      "F1 Score: 0.05476716110233356\n",
      "ROC AUC: 0.8327778574640048\n"
     ]
    }
   ],
   "source": [
    "# ground truth is y_test\n",
    "y_true = y_test.values  \n",
    "print(\"Accuracy:\", accuracy_score(y_true, y_pred_labels))\n",
    "print(\"Precision:\", precision_score(y_true, y_pred_labels))\n",
    "print(\"Recall:\", recall_score(y_true, y_pred_labels))\n",
    "print(\"F1 Score:\", f1_score(y_true, y_pred_labels))\n",
    "print(\"ROC AUC:\", roc_auc_score(y_true, preds))  # use raw probs for AUC\n"
   ]
  },
  {
   "cell_type": "code",
   "execution_count": 9,
   "metadata": {},
   "outputs": [
    {
     "name": "stdout",
     "output_type": "stream",
     "text": [
      "                     Feature  Importance\n",
      "82                      Hour       600.0\n",
      "71       temperature_2m (°C)       301.0\n",
      "77  relative_humidity_2m (%)       281.0\n",
      "74    wind_direction_10m (°)       275.0\n",
      "63                      -1.1       262.0\n",
      "..                       ...         ...\n",
      "1                       6662         6.0\n",
      "12               41.69_41.69         6.0\n",
      "9                41.66_41.66         6.0\n",
      "46               42.04_42.04         5.0\n",
      "47               42.05_42.05         4.0\n",
      "\n",
      "[84 rows x 2 columns]\n"
     ]
    }
   ],
   "source": [
    "\n",
    "importances = bst.get_score(importance_type='weight')\n",
    "\n",
    "\n",
    "importance_df = pd.DataFrame({\n",
    "    'Feature': list(importances.keys()),\n",
    "    'Importance': list(importances.values())\n",
    "})\n",
    "\n",
    "\n",
    "importance_df = importance_df.sort_values(by='Importance', ascending=False)\n",
    "print(importance_df)\n"
   ]
  },
  {
   "cell_type": "code",
   "execution_count": 10,
   "metadata": {},
   "outputs": [],
   "source": [
    "importance_df.to_csv('feature_importances.csv', index=False)"
   ]
  },
  {
   "cell_type": "code",
   "execution_count": 11,
   "metadata": {},
   "outputs": [
    {
     "name": "stdout",
     "output_type": "stream",
     "text": [
      "Precision: 0.028208858713223407\n",
      "Recall: 0.9359990247470438\n",
      "F1 Score: 0.05476716110233356\n",
      "PR AUC: 0.11005997162554565\n"
     ]
    }
   ],
   "source": [
    "\n",
    "print(\"Precision:\", precision_score(y_test, y_pred_labels))\n",
    "print(\"Recall:\", recall_score(y_test, y_pred_labels))\n",
    "print(\"F1 Score:\", f1_score(y_test, y_pred_labels))\n",
    "\n",
    "# Bonus: Precision-Recall AUC\n",
    "print(\"PR AUC:\", average_precision_score(y_test, preds))  # use raw probability for this\n"
   ]
  },
  {
   "cell_type": "code",
   "execution_count": 12,
   "metadata": {},
   "outputs": [
    {
     "name": "stdout",
     "output_type": "stream",
     "text": [
      "Delay Precision: 0.028208858713223407\n",
      "Delay F1 Score: 0.05476716110233356\n"
     ]
    }
   ],
   "source": [
    "\n",
    "print(\"Delay Precision:\", precision_score(y_test, y_pred_labels, pos_label=1))\n",
    "print(\"Delay F1 Score:\", f1_score(y_test, y_pred_labels, pos_label=1))\n"
   ]
  },
  {
   "cell_type": "code",
   "execution_count": null,
   "metadata": {},
   "outputs": [],
   "source": []
  }
 ],
 "metadata": {
  "kernelspec": {
   "display_name": ".venv",
   "language": "python",
   "name": "python3"
  },
  "language_info": {
   "codemirror_mode": {
    "name": "ipython",
    "version": 3
   },
   "file_extension": ".py",
   "mimetype": "text/x-python",
   "name": "python",
   "nbconvert_exporter": "python",
   "pygments_lexer": "ipython3",
   "version": "3.10.10"
  }
 },
 "nbformat": 4,
 "nbformat_minor": 2
}
